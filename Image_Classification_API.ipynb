{
  "nbformat": 4,
  "nbformat_minor": 0,
  "metadata": {
    "colab": {
      "name": "Image Classification API.ipynb",
      "provenance": [],
      "collapsed_sections": [],
      "include_colab_link": true
    },
    "kernelspec": {
      "name": "python3",
      "display_name": "Python 3"
    },
    "accelerator": "GPU"
  },
  "cells": [
    {
      "cell_type": "markdown",
      "metadata": {
        "id": "view-in-github",
        "colab_type": "text"
      },
      "source": [
        "<a href=\"https://colab.research.google.com/github/ketankishore27/TensorFlow/blob/master/Image_Classification_API.ipynb\" target=\"_parent\"><img src=\"https://colab.research.google.com/assets/colab-badge.svg\" alt=\"Open In Colab\"/></a>"
      ]
    },
    {
      "cell_type": "code",
      "metadata": {
        "id": "CnBQr8YW1m_S",
        "colab_type": "code",
        "outputId": "12b0742c-8268-4477-f8a2-90c3e54cfd39",
        "colab": {
          "base_uri": "https://localhost:8080/",
          "height": 122
        }
      },
      "source": [
        "!echo \"deb [arch=amd64] http://storage.googleapis.com/tensorflow-serving-apt stable tensorflow-model-server tensorflow-model-server-universal\" | sudo tee /etc/apt/sources.list.d/tensorflow-serving.list && curl https://storage.googleapis.com/tensorflow-serving-apt/tensorflow-serving.release.pub.gpg | sudo apt-key add -"
      ],
      "execution_count": 0,
      "outputs": [
        {
          "output_type": "stream",
          "text": [
            "deb [arch=amd64] http://storage.googleapis.com/tensorflow-serving-apt stable tensorflow-model-server tensorflow-model-server-universal\n",
            "  % Total    % Received % Xferd  Average Speed   Time    Time     Time  Current\n",
            "                                 Dload  Upload   Total   Spent    Left  Speed\n",
            "\r  0     0    0     0    0     0      0      0 --:--:-- --:--:-- --:--:--     0\r100  2943  100  2943    0     0   119k      0 --:--:-- --:--:-- --:--:--  119k\n",
            "OK\n"
          ],
          "name": "stdout"
        }
      ]
    },
    {
      "cell_type": "code",
      "metadata": {
        "id": "k2IeDhCr1qUf",
        "colab_type": "code",
        "outputId": "cc807983-9f8b-4747-bb1b-3e78c2bc02d1",
        "colab": {
          "base_uri": "https://localhost:8080/",
          "height": 360
        }
      },
      "source": [
        "!apt-get update & apt-get install tensorflow-model-server"
      ],
      "execution_count": 0,
      "outputs": [
        {
          "output_type": "stream",
          "text": [
            "\rReading package lists... 0%\r\r0% [Working]\rReading package lists... 0%\r\rReading package lists... 0%\r\rReading package lists... 7%\r\rReading package lists... 7%\r\rReading package lists... 7%\r\rReading package lists... 7%\r\r            \rHit:1 http://storage.googleapis.com/tensorflow-serving-apt stable InRelease\n",
            "\r0% [Connecting to archive.ubuntu.com] [Connecting to security.ubuntu.com (91.18\r0% [1 InRelease gpgv 3,012 B] [Connecting to archive.ubuntu.com] [Connecting to\r                                                                               \rIgn:2 https://developer.download.nvidia.com/compute/cuda/repos/ubuntu1804/x86_64  InRelease\n",
            "\r0% [1 InRelease gpgv 3,012 B] [Connecting to archive.ubuntu.com] [Connecting to\r                                                                               \rHit:3 https://cloud.r-project.org/bin/linux/ubuntu bionic-cran35/ InRelease\n",
            "\r0% [1 InRelease gpgv 3,012 B] [Connecting to archive.ubuntu.com] [Connecting to\r                                                                               \rIgn:4 https://developer.download.nvidia.com/compute/machine-learning/repos/ubuntu1804/x86_64  InRelease\n",
            "\r0% [1 InRelease gpgv 3,012 B] [Connecting to archive.ubuntu.com (91.189.88.173)\r                                                                               \rHit:5 https://developer.download.nvidia.com/compute/cuda/repos/ubuntu1804/x86_64  Release\n",
            "\r0% [1 InRelease gpgv 3,012 B] [Connecting to archive.ubuntu.com (91.189.88.173)\r                                                                               \rHit:6 https://developer.download.nvidia.com/compute/machine-learning/repos/ubuntu1804/x86_64  Release\n",
            "\r0% [1 InRelease gpgv 3,012 B] [Connecting to archive.ubuntu.com (91.189.88.173)\r0% [Connecting to archive.ubuntu.com (91.189.88.173)] [Waiting for headers] [Wa\r0% [3 InRelease gpgv 3,626 B] [Connecting to archive.ubuntu.com (91.189.88.173)\r                                                                               \rHit:7 http://ppa.launchpad.net/graphics-drivers/ppa/ubuntu bionic InRelease\n",
            "\r0% [3 InRelease gpgv 3,626 B] [Connecting to archive.ubuntu.com (91.189.88.173)\r                                                                               \rGet:8 http://security.ubuntu.com/ubuntu bionic-security InRelease [88.7 kB]\n",
            "\r0% [3 InRelease gpgv 3,626 B] [Waiting for headers] [8 InRelease 14.2 kB/88.7 k\r0% [Waiting for headers] [8 InRelease 14.2 kB/88.7 kB 16%] [Connecting to ppa.l\r0% [Release.gpg gpgv 564 B] [Waiting for headers] [8 InRelease 14.2 kB/88.7 kB \rReading package lists... 48%\r\r                                                                               \rHit:9 http://archive.ubuntu.com/ubuntu bionic InRelease\n",
            "Hit:11 http://ppa.launchpad.net/marutter/c2d4u3.5/ubuntu bionic InRelease\n",
            "Get:13 http://archive.ubuntu.com/ubuntu bionic-updates InRelease [88.7 kB]\n",
            "Reading package lists... Done\n",
            "Building dependency tree       \n",
            "Reading state information... Done\n",
            "tensorflow-model-server is already the newest version (1.14.0).\n",
            "0% [8 InRelease gpgv 88.7 kB] [Connecting to archive.ubuntu.com (91.189.88.173)0 upgraded, 0 newly installed, 0 to remove and 134 not upgraded.\n",
            "Hit:14 http://archive.ubuntu.com/ubuntu bionic-backports InRelease\n",
            "Fetched 177 kB in 3s (68.9 kB/s)\n",
            "Reading package lists... Done\n"
          ],
          "name": "stdout"
        }
      ]
    },
    {
      "cell_type": "code",
      "metadata": {
        "id": "8gCC_5_fNGSi",
        "colab_type": "code",
        "outputId": "b56808e5-eaa2-42eb-f284-af48fec5a367",
        "colab": {
          "base_uri": "https://localhost:8080/",
          "height": 360
        }
      },
      "source": [
        "!pip install tensorflow-gpu==1.13.1"
      ],
      "execution_count": 0,
      "outputs": [
        {
          "output_type": "stream",
          "text": [
            "Requirement already satisfied: tensorflow-gpu==1.13.1 in /usr/local/lib/python3.6/dist-packages (1.13.1)\n",
            "Requirement already satisfied: keras-applications>=1.0.6 in /usr/local/lib/python3.6/dist-packages (from tensorflow-gpu==1.13.1) (1.0.8)\n",
            "Requirement already satisfied: astor>=0.6.0 in /usr/local/lib/python3.6/dist-packages (from tensorflow-gpu==1.13.1) (0.8.0)\n",
            "Requirement already satisfied: protobuf>=3.6.1 in /usr/local/lib/python3.6/dist-packages (from tensorflow-gpu==1.13.1) (3.7.1)\n",
            "Requirement already satisfied: termcolor>=1.1.0 in /usr/local/lib/python3.6/dist-packages (from tensorflow-gpu==1.13.1) (1.1.0)\n",
            "Requirement already satisfied: grpcio>=1.8.6 in /usr/local/lib/python3.6/dist-packages (from tensorflow-gpu==1.13.1) (1.15.0)\n",
            "Requirement already satisfied: tensorflow-estimator<1.14.0rc0,>=1.13.0 in /usr/local/lib/python3.6/dist-packages (from tensorflow-gpu==1.13.1) (1.13.0)\n",
            "Requirement already satisfied: absl-py>=0.1.6 in /usr/local/lib/python3.6/dist-packages (from tensorflow-gpu==1.13.1) (0.8.0)\n",
            "Requirement already satisfied: six>=1.10.0 in /usr/local/lib/python3.6/dist-packages (from tensorflow-gpu==1.13.1) (1.12.0)\n",
            "Requirement already satisfied: keras-preprocessing>=1.0.5 in /usr/local/lib/python3.6/dist-packages (from tensorflow-gpu==1.13.1) (1.1.0)\n",
            "Requirement already satisfied: tensorboard<1.14.0,>=1.13.0 in /usr/local/lib/python3.6/dist-packages (from tensorflow-gpu==1.13.1) (1.13.1)\n",
            "Requirement already satisfied: wheel>=0.26 in /usr/local/lib/python3.6/dist-packages (from tensorflow-gpu==1.13.1) (0.33.6)\n",
            "Requirement already satisfied: numpy>=1.13.3 in /usr/local/lib/python3.6/dist-packages (from tensorflow-gpu==1.13.1) (1.16.5)\n",
            "Requirement already satisfied: gast>=0.2.0 in /usr/local/lib/python3.6/dist-packages (from tensorflow-gpu==1.13.1) (0.3.2)\n",
            "Requirement already satisfied: h5py in /usr/local/lib/python3.6/dist-packages (from keras-applications>=1.0.6->tensorflow-gpu==1.13.1) (2.8.0)\n",
            "Requirement already satisfied: setuptools in /usr/local/lib/python3.6/dist-packages (from protobuf>=3.6.1->tensorflow-gpu==1.13.1) (41.2.0)\n",
            "Requirement already satisfied: mock>=2.0.0 in /usr/local/lib/python3.6/dist-packages (from tensorflow-estimator<1.14.0rc0,>=1.13.0->tensorflow-gpu==1.13.1) (3.0.5)\n",
            "Requirement already satisfied: markdown>=2.6.8 in /usr/local/lib/python3.6/dist-packages (from tensorboard<1.14.0,>=1.13.0->tensorflow-gpu==1.13.1) (3.1.1)\n",
            "Requirement already satisfied: werkzeug>=0.11.15 in /usr/local/lib/python3.6/dist-packages (from tensorboard<1.14.0,>=1.13.0->tensorflow-gpu==1.13.1) (0.16.0)\n"
          ],
          "name": "stdout"
        }
      ]
    },
    {
      "cell_type": "code",
      "metadata": {
        "id": "X5cs2G0VNOs3",
        "colab_type": "code",
        "outputId": "5aaa4568-df3c-446b-e43f-0ccaa55f2041",
        "colab": {
          "base_uri": "https://localhost:8080/",
          "height": 122
        }
      },
      "source": [
        "!pip install requests"
      ],
      "execution_count": 0,
      "outputs": [
        {
          "output_type": "stream",
          "text": [
            "Requirement already satisfied: requests in /usr/local/lib/python3.6/dist-packages (2.21.0)\n",
            "Requirement already satisfied: certifi>=2017.4.17 in /usr/local/lib/python3.6/dist-packages (from requests) (2019.9.11)\n",
            "Requirement already satisfied: urllib3<1.25,>=1.21.1 in /usr/local/lib/python3.6/dist-packages (from requests) (1.24.3)\n",
            "Requirement already satisfied: idna<2.9,>=2.5 in /usr/local/lib/python3.6/dist-packages (from requests) (2.8)\n",
            "Requirement already satisfied: chardet<3.1.0,>=3.0.2 in /usr/local/lib/python3.6/dist-packages (from requests) (3.0.4)\n"
          ],
          "name": "stdout"
        }
      ]
    },
    {
      "cell_type": "code",
      "metadata": {
        "id": "IRve88nbNRJ4",
        "colab_type": "code",
        "colab": {}
      },
      "source": [
        "import os \n",
        "import numpy as np\n",
        "import pandas as pd\n",
        "import matplotlib.pyplot as plt\n",
        "import tensorflow as tf\n",
        "import json\n",
        "import random\n",
        "import requests\n",
        "\n",
        "from tensorflow.keras.datasets import cifar10\n",
        "%matplotlib inline"
      ],
      "execution_count": 0,
      "outputs": []
    },
    {
      "cell_type": "markdown",
      "metadata": {
        "id": "4Pj-qe4cfu-K",
        "colab_type": "text"
      },
      "source": [
        "**Loading the data**"
      ]
    },
    {
      "cell_type": "code",
      "metadata": {
        "id": "K8ucHzrgfa2w",
        "colab_type": "code",
        "colab": {}
      },
      "source": [
        "(X_train, y_train), (X_test, y_test) = cifar10.load_data()"
      ],
      "execution_count": 0,
      "outputs": []
    },
    {
      "cell_type": "markdown",
      "metadata": {
        "id": "oaDynK_PfzxZ",
        "colab_type": "text"
      },
      "source": [
        "**Scaling the data**"
      ]
    },
    {
      "cell_type": "code",
      "metadata": {
        "id": "OLis9nCWfsH4",
        "colab_type": "code",
        "colab": {}
      },
      "source": [
        "X_train, X_test = X_train/255, X_test/255"
      ],
      "execution_count": 0,
      "outputs": []
    },
    {
      "cell_type": "markdown",
      "metadata": {
        "id": "_--SbTBxgM9y",
        "colab_type": "text"
      },
      "source": [
        "**Defining the Model**"
      ]
    },
    {
      "cell_type": "code",
      "metadata": {
        "id": "NewlkCBVgKvP",
        "colab_type": "code",
        "colab": {}
      },
      "source": [
        "model = tf.keras.models.Sequential()"
      ],
      "execution_count": 0,
      "outputs": []
    },
    {
      "cell_type": "code",
      "metadata": {
        "id": "Fq4kUvWRg7hR",
        "colab_type": "code",
        "colab": {}
      },
      "source": [
        "model.add(tf.keras.layers.Conv2D(input_shape = [32, 32, 3], filters = 32, activation = 'relu', padding = 'same', kernel_size = 3))\n",
        "model.add(tf.keras.layers.Conv2D(kernel_size = 3, filters = 32, activation = 'relu', padding = 'same'))\n",
        "model.add(tf.keras.layers.MaxPool2D(pool_size = 2, strides= 2, padding = 'valid'))\n",
        "model.add(tf.keras.layers.Conv2D(kernel_size = 3, filters = 64, activation = 'relu', padding = 'same'))\n",
        "model.add(tf.keras.layers.Conv2D(kernel_size = 3, filters = 64, activation = 'relu', padding = 'same'))\n",
        "model.add(tf.keras.layers.MaxPool2D(pool_size = 2, strides = 2, padding = 'valid'))\n",
        "model.add(tf.keras.layers.Flatten())\n",
        "model.add(tf.keras.layers.Dense(units = 128, activation = 'relu'))\n",
        "model.add(tf.keras.layers.Dense(units = 10, activation = 'softmax'))\n",
        "model.compile(optimizer='adam', loss = 'sparse_categorical_crossentropy', metrics = ['sparse_categorical_accuracy'])"
      ],
      "execution_count": 0,
      "outputs": []
    },
    {
      "cell_type": "code",
      "metadata": {
        "id": "CmTnfG4ehazV",
        "colab_type": "code",
        "outputId": "4502503b-fcc1-4fb4-b5e9-17f518e88a7a",
        "colab": {
          "base_uri": "https://localhost:8080/",
          "height": 374
        }
      },
      "source": [
        "model.fit(X_train, y_train, epochs = 10, batch_size = 128)"
      ],
      "execution_count": 0,
      "outputs": [
        {
          "output_type": "stream",
          "text": [
            "Epoch 1/10\n",
            "50000/50000 [==============================] - 11s 226us/sample - loss: 1.4566 - sparse_categorical_accuracy: 0.4711\n",
            "Epoch 2/10\n",
            "50000/50000 [==============================] - 11s 218us/sample - loss: 1.0308 - sparse_categorical_accuracy: 0.6373\n",
            "Epoch 3/10\n",
            "50000/50000 [==============================] - 11s 219us/sample - loss: 0.8564 - sparse_categorical_accuracy: 0.7015\n",
            "Epoch 4/10\n",
            "50000/50000 [==============================] - 11s 219us/sample - loss: 0.7363 - sparse_categorical_accuracy: 0.7435\n",
            "Epoch 5/10\n",
            "50000/50000 [==============================] - 11s 218us/sample - loss: 0.6469 - sparse_categorical_accuracy: 0.7738\n",
            "Epoch 6/10\n",
            "50000/50000 [==============================] - 11s 216us/sample - loss: 0.5613 - sparse_categorical_accuracy: 0.8035\n",
            "Epoch 7/10\n",
            "50000/50000 [==============================] - 11s 219us/sample - loss: 0.4818 - sparse_categorical_accuracy: 0.8326\n",
            "Epoch 8/10\n",
            "50000/50000 [==============================] - 11s 217us/sample - loss: 0.4129 - sparse_categorical_accuracy: 0.8550\n",
            "Epoch 9/10\n",
            "50000/50000 [==============================] - 11s 216us/sample - loss: 0.3370 - sparse_categorical_accuracy: 0.8822\n",
            "Epoch 10/10\n",
            "50000/50000 [==============================] - 11s 217us/sample - loss: 0.2731 - sparse_categorical_accuracy: 0.9036\n"
          ],
          "name": "stdout"
        },
        {
          "output_type": "execute_result",
          "data": {
            "text/plain": [
              "<tensorflow.python.keras.callbacks.History at 0x7f4d3345b748>"
            ]
          },
          "metadata": {
            "tags": []
          },
          "execution_count": 35
        }
      ]
    },
    {
      "cell_type": "code",
      "metadata": {
        "id": "0tbY9E5Gmnes",
        "colab_type": "code",
        "outputId": "bea1014a-a70d-4123-e92c-d7078bf48bd0",
        "colab": {
          "base_uri": "https://localhost:8080/",
          "height": 34
        }
      },
      "source": [
        "test_loss, test_accuracy = model.evaluate(X_test, y_test)"
      ],
      "execution_count": 0,
      "outputs": [
        {
          "output_type": "stream",
          "text": [
            "10000/10000 [==============================] - 1s 143us/sample - loss: 0.9102 - sparse_categorical_accuracy: 0.7488\n"
          ],
          "name": "stdout"
        }
      ]
    },
    {
      "cell_type": "markdown",
      "metadata": {
        "id": "W_gTK3Ptn6JS",
        "colab_type": "text"
      },
      "source": [
        "**Creating the Directory for model**"
      ]
    },
    {
      "cell_type": "code",
      "metadata": {
        "colab_type": "code",
        "id": "InAQZPObr45j",
        "colab": {}
      },
      "source": [
        "MODEL_DIR = 'model/'\n",
        "version = 1\n",
        "export_path = os.path.join(MODEL_DIR, str(version))"
      ],
      "execution_count": 0,
      "outputs": []
    },
    {
      "cell_type": "code",
      "metadata": {
        "id": "ZphM7ElDxXjC",
        "colab_type": "code",
        "colab": {}
      },
      "source": [
        "if os.path.isdir(export_path):\n",
        "  !rm -r {export_path}"
      ],
      "execution_count": 0,
      "outputs": []
    },
    {
      "cell_type": "code",
      "metadata": {
        "id": "VUhU0uFMoLqo",
        "colab_type": "code",
        "outputId": "093e3f7d-e1d2-4ae4-e619-9076d95949c3",
        "colab": {
          "base_uri": "https://localhost:8080/",
          "height": 68
        }
      },
      "source": [
        "tf.saved_model.simple_save(session = tf.keras.backend.get_session(), export_dir = export_path, inputs = {'input_image': model.input}, outputs = {t.name: t for t in model.outputs})"
      ],
      "execution_count": 0,
      "outputs": [
        {
          "output_type": "stream",
          "text": [
            "INFO:tensorflow:Assets added to graph.\n",
            "INFO:tensorflow:No assets to write.\n",
            "INFO:tensorflow:SavedModel written to: model/1/saved_model.pb\n"
          ],
          "name": "stdout"
        }
      ]
    },
    {
      "cell_type": "code",
      "metadata": {
        "id": "NLZG1D-qoNrE",
        "colab_type": "code",
        "colab": {}
      },
      "source": [
        "os.environ['MODEL_DIR'] = os.path.abspath(MODEL_DIR)"
      ],
      "execution_count": 0,
      "outputs": []
    },
    {
      "cell_type": "markdown",
      "metadata": {
        "id": "BHNX9bisqajC",
        "colab_type": "text"
      },
      "source": [
        "**Running the Tensorflow Serving API**"
      ]
    },
    {
      "cell_type": "code",
      "metadata": {
        "id": "dtC3YmV4qPWj",
        "colab_type": "code",
        "outputId": "e965c9ef-8dac-4153-dd83-31ffe053778c",
        "colab": {
          "base_uri": "https://localhost:8080/",
          "height": 34
        }
      },
      "source": [
        "%%bash --bg\n",
        "nohup tensorflow_model_server --rest_api_port=8502 --model_name=cifar10 --model_base_path=\"${MODEL_DIR}\" >server.log 2>&1"
      ],
      "execution_count": 0,
      "outputs": [
        {
          "output_type": "stream",
          "text": [
            "Starting job # 3 in a separate thread.\n"
          ],
          "name": "stdout"
        }
      ]
    },
    {
      "cell_type": "code",
      "metadata": {
        "id": "KaFwjTajqRu8",
        "colab_type": "code",
        "outputId": "7565765d-22c4-455b-cb28-a7d6780837d7",
        "colab": {
          "base_uri": "https://localhost:8080/",
          "height": 207
        }
      },
      "source": [
        "!tail server.log"
      ],
      "execution_count": 0,
      "outputs": [
        {
          "output_type": "stream",
          "text": [
            "2019-10-02 18:41:40.559623: I external/org_tensorflow/tensorflow/cc/saved_model/reader.cc:54] Reading meta graph with tags { serve }\n",
            "2019-10-02 18:41:40.565594: I external/org_tensorflow/tensorflow/core/platform/cpu_feature_guard.cc:142] Your CPU supports instructions that this TensorFlow binary was not compiled to use: AVX2 FMA\n",
            "2019-10-02 18:41:40.595392: I external/org_tensorflow/tensorflow/cc/saved_model/loader.cc:202] Restoring SavedModel bundle.\n",
            "2019-10-02 18:41:40.667586: I external/org_tensorflow/tensorflow/cc/saved_model/loader.cc:311] SavedModel load for tags { serve }; Status: success. Took 114607 microseconds.\n",
            "2019-10-02 18:41:40.667649: I tensorflow_serving/servables/tensorflow/saved_model_warmup.cc:103] No warmup data file found at /content/model/1/assets.extra/tf_serving_warmup_requests\n",
            "2019-10-02 18:41:40.667730: I tensorflow_serving/core/loader_harness.cc:86] Successfully loaded servable version {name: cifar10 version: 1}\n",
            "2019-10-02 18:41:40.669205: I tensorflow_serving/model_servers/server.cc:324] Running gRPC ModelServer at 0.0.0.0:8500 ...\n",
            "[warn] getaddrinfo: address family for nodename not supported\n",
            "2019-10-02 18:41:40.669910: I tensorflow_serving/model_servers/server.cc:344] Exporting HTTP/REST API at:localhost:8502 ...\n",
            "[evhttp_server.cc : 239] RAW: Entering the event loop ...\n"
          ],
          "name": "stdout"
        }
      ]
    },
    {
      "cell_type": "code",
      "metadata": {
        "id": "gPJl8apArD6S",
        "colab_type": "code",
        "colab": {}
      },
      "source": [
        "random_image = random.randint(0, len(X_test))"
      ],
      "execution_count": 0,
      "outputs": []
    },
    {
      "cell_type": "code",
      "metadata": {
        "id": "CzKW27DvspJ9",
        "colab_type": "code",
        "colab": {}
      },
      "source": [
        "data =json.dumps({'signature_name': 'serving_default', \n",
        "                 'instances': [X_test[random_image].tolist()]})"
      ],
      "execution_count": 0,
      "outputs": []
    },
    {
      "cell_type": "code",
      "metadata": {
        "id": "L7PsVhTntJT2",
        "colab_type": "code",
        "colab": {}
      },
      "source": [
        "headers = {'content_type' : 'application/json'}"
      ],
      "execution_count": 0,
      "outputs": []
    },
    {
      "cell_type": "code",
      "metadata": {
        "id": "gwuSeqTgtem_",
        "colab_type": "code",
        "colab": {}
      },
      "source": [
        "json_response = requests.post(url = 'http://localhost:8501/v1/models/cifar10:predict', data = data, headers = headers)\n",
        "#json_response = requests.post(url=\"http://localhost:8501/v1/models/cifar10:predict\", data=data, headers=headers)"
      ],
      "execution_count": 0,
      "outputs": []
    },
    {
      "cell_type": "code",
      "metadata": {
        "id": "jr6FdKQxuUXe",
        "colab_type": "code",
        "outputId": "8d9b8781-9005-470a-b5c0-e7b9ab91d1e6",
        "colab": {
          "base_uri": "https://localhost:8080/",
          "height": 286
        }
      },
      "source": [
        "plt.imshow(X_test[random_image])"
      ],
      "execution_count": 0,
      "outputs": [
        {
          "output_type": "execute_result",
          "data": {
            "text/plain": [
              "<matplotlib.image.AxesImage at 0x7f4d3300a7b8>"
            ]
          },
          "metadata": {
            "tags": []
          },
          "execution_count": 53
        },
        {
          "output_type": "display_data",
          "data": {
            "image/png": "[encoded data removed]",
            "text/plain": [
              "<Figure size 432x288 with 1 Axes>"
            ]
          },
          "metadata": {
            "tags": []
          }
        }
      ]
    },
    {
      "cell_type": "code",
      "metadata": {
        "id": "ioB2NzdRyffD",
        "colab_type": "code",
        "colab": {}
      },
      "source": [
        "prediction = json.loads(json_response.text)['predictions']"
      ],
      "execution_count": 0,
      "outputs": []
    },
    {
      "cell_type": "code",
      "metadata": {
        "id": "PaJdriBxwVfZ",
        "colab_type": "code",
        "colab": {}
      },
      "source": [
        "class_names = ['airplane', 'automobile', 'bird', 'cat', 'deer', 'dog', 'frog', 'horse', 'ship', 'truck']"
      ],
      "execution_count": 0,
      "outputs": []
    },
    {
      "cell_type": "code",
      "metadata": {
        "id": "qG8106eXyYq5",
        "colab_type": "code",
        "outputId": "02e07aaf-b0f7-44fe-93f8-ca1b0a6050c5",
        "colab": {
          "base_uri": "https://localhost:8080/",
          "height": 34
        }
      },
      "source": [
        "class_names[np.argmax(prediction[0])]"
      ],
      "execution_count": 0,
      "outputs": [
        {
          "output_type": "execute_result",
          "data": {
            "text/plain": [
              "'deer'"
            ]
          },
          "metadata": {
            "tags": []
          },
          "execution_count": 60
        }
      ]
    },
    {
      "cell_type": "code",
      "metadata": {
        "id": "DIsOHgr-zLWB",
        "colab_type": "code",
        "colab": {}
      },
      "source": [
        ""
      ],
      "execution_count": 0,
      "outputs": []
    }
  ]
}