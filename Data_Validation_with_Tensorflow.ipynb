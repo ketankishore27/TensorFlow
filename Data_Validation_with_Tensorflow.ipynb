{
  "nbformat": 4,
  "nbformat_minor": 0,
  "metadata": {
    "colab": {
      "name": "Data Validation with Tensorflow.ipynb",
      "provenance": [],
      "collapsed_sections": [],
      "include_colab_link": true
    },
    "kernelspec": {
      "name": "python2",
      "display_name": "Python 2"
    }
  },
  "cells": [
    {
      "cell_type": "markdown",
      "metadata": {
        "id": "view-in-github",
        "colab_type": "text"
      },
      "source": [
        "<a href=\"https://colab.research.google.com/github/ketankishore27/TensorFlow/blob/master/Data_Validation_with_Tensorflow.ipynb\" target=\"_parent\"><img src=\"https://colab.research.google.com/assets/colab-badge.svg\" alt=\"Open In Colab\"/></a>"
      ]
    },
    {
      "cell_type": "code",
      "metadata": {
        "id": "nq9MnU556RTg",
        "colab_type": "code",
        "outputId": "515bfb02-7aed-47bf-9d5e-83381bedb5cb",
        "colab": {
          "base_uri": "https://localhost:8080/",
          "height": 119
        }
      },
      "source": [
        "!apt-get install python-dev python-snappy"
      ],
      "execution_count": 0,
      "outputs": [
        {
          "output_type": "stream",
          "text": [
            "Reading package lists... Done\n",
            "Building dependency tree       \n",
            "Reading state information... Done\n",
            "python-dev is already the newest version (2.7.15~rc1-1).\n",
            "python-snappy is already the newest version (0.5-1.1build2).\n",
            "0 upgraded, 0 newly installed, 0 to remove and 8 not upgraded.\n"
          ],
          "name": "stdout"
        }
      ]
    },
    {
      "cell_type": "code",
      "metadata": {
        "id": "rL-qsDcu6dhr",
        "colab_type": "code",
        "outputId": "f7d0c2ec-70df-49a5-ab4e-18b9b06a800a",
        "colab": {
          "base_uri": "https://localhost:8080/",
          "height": 289
        }
      },
      "source": [
        "!pip install -q tensorflow_data_validation"
      ],
      "execution_count": 0,
      "outputs": [
        {
          "output_type": "stream",
          "text": [
            "\u001b[K     |████████████████████████████████| 2.4MB 2.8MB/s \n",
            "\u001b[K     |████████████████████████████████| 2.8MB 42.7MB/s \n",
            "\u001b[K     |████████████████████████████████| 51kB 20.0MB/s \n",
            "\u001b[K     |████████████████████████████████| 1.0MB 33.1MB/s \n",
            "\u001b[K     |████████████████████████████████| 143kB 39.7MB/s \n",
            "\u001b[?25h  Building wheel for tensorflow-transform (setup.py) ... \u001b[?25l\u001b[?25hdone\n",
            "  Building wheel for avro (setup.py) ... \u001b[?25l\u001b[?25hdone\n",
            "  Building wheel for hdfs (setup.py) ... \u001b[?25l\u001b[?25hdone\n",
            "  Building wheel for dill (setup.py) ... \u001b[?25l\u001b[?25hdone\n",
            "  Building wheel for oauth2client (setup.py) ... \u001b[?25l\u001b[?25hdone\n",
            "  Building wheel for pyvcf (setup.py) ... \u001b[?25l\u001b[?25hdone\n",
            "  Building wheel for proto-google-cloud-datastore-v1 (setup.py) ... \u001b[?25l\u001b[?25hdone\n",
            "  Building wheel for googledatastore (setup.py) ... \u001b[?25l\u001b[?25hdone\n",
            "  Building wheel for docopt (setup.py) ... \u001b[?25l\u001b[?25hdone\n",
            "  Building wheel for grpc-google-iam-v1 (setup.py) ... \u001b[?25l\u001b[?25hdone\n",
            "\u001b[31mERROR: multiprocess 0.70.8 has requirement dill>=0.3.0, but you'll have dill 0.2.9 which is incompatible.\u001b[0m\n"
          ],
          "name": "stdout"
        }
      ]
    },
    {
      "cell_type": "code",
      "metadata": {
        "id": "B7f0-0HP6i45",
        "colab_type": "code",
        "colab": {}
      },
      "source": [
        "import pandas as pd\n",
        "import tensorflow_data_validation as tfdv\n",
        "import tensorflow as tf\n",
        "import copy\n",
        "from __future__ import print_function"
      ],
      "execution_count": 0,
      "outputs": []
    },
    {
      "cell_type": "code",
      "metadata": {
        "id": "z4yamRvg60up",
        "colab_type": "code",
        "colab": {}
      },
      "source": [
        "dataset = pd.read_csv('pollution-small.csv')"
      ],
      "execution_count": 0,
      "outputs": []
    },
    {
      "cell_type": "code",
      "metadata": {
        "id": "NiiBgIgu7QzT",
        "colab_type": "code",
        "colab": {}
      },
      "source": [
        "training_data = dataset[:1600]"
      ],
      "execution_count": 0,
      "outputs": []
    },
    {
      "cell_type": "code",
      "metadata": {
        "id": "fx8KqgJE7YYz",
        "colab_type": "code",
        "colab": {}
      },
      "source": [
        "test_set = dataset[1600:]"
      ],
      "execution_count": 0,
      "outputs": []
    },
    {
      "cell_type": "code",
      "metadata": {
        "id": "0l4427Vv7a6T",
        "colab_type": "code",
        "colab": {}
      },
      "source": [
        "train_stats = tfdv.generate_statistics_from_dataframe(dataframe = training_data)"
      ],
      "execution_count": 0,
      "outputs": []
    },
    {
      "cell_type": "code",
      "metadata": {
        "id": "bXaZ-PWP7uIw",
        "colab_type": "code",
        "colab": {}
      },
      "source": [
        "schema = tfdv.infer_schema(statistics = train_stats)"
      ],
      "execution_count": 0,
      "outputs": []
    },
    {
      "cell_type": "code",
      "metadata": {
        "id": "HMplL1SN7vKb",
        "colab_type": "code",
        "outputId": "7a037710-6af3-476b-ff3e-87ef9387abe5",
        "colab": {
          "base_uri": "https://localhost:8080/",
          "height": 235
        }
      },
      "source": [
        "tfdv.display_schema(schema)"
      ],
      "execution_count": 0,
      "outputs": [
        {
          "output_type": "display_data",
          "data": {
            "text/plain": [
              "               Type  Presence Valency Domain\n",
              "Feature name                                \n",
              "'soot'        FLOAT  required              -\n",
              "'no2'         FLOAT  required              -\n",
              "'pm10'        FLOAT  required              -\n",
              "'Date'        BYTES  required              -\n",
              "'so2'         FLOAT  required              -"
            ],
            "text/html": [
              "<div>\n",
              "<style scoped>\n",
              "    .dataframe tbody tr th:only-of-type {\n",
              "        vertical-align: middle;\n",
              "    }\n",
              "\n",
              "    .dataframe tbody tr th {\n",
              "        vertical-align: top;\n",
              "    }\n",
              "\n",
              "    .dataframe thead th {\n",
              "        text-align: right;\n",
              "    }\n",
              "</style>\n",
              "<table border=\"1\" class=\"dataframe\">\n",
              "  <thead>\n",
              "    <tr style=\"text-align: right;\">\n",
              "      <th></th>\n",
              "      <th>Type</th>\n",
              "      <th>Presence</th>\n",
              "      <th>Valency</th>\n",
              "      <th>Domain</th>\n",
              "    </tr>\n",
              "    <tr>\n",
              "      <th>Feature name</th>\n",
              "      <th></th>\n",
              "      <th></th>\n",
              "      <th></th>\n",
              "      <th></th>\n",
              "    </tr>\n",
              "  </thead>\n",
              "  <tbody>\n",
              "    <tr>\n",
              "      <th>'soot'</th>\n",
              "      <td>FLOAT</td>\n",
              "      <td>required</td>\n",
              "      <td></td>\n",
              "      <td>-</td>\n",
              "    </tr>\n",
              "    <tr>\n",
              "      <th>'no2'</th>\n",
              "      <td>FLOAT</td>\n",
              "      <td>required</td>\n",
              "      <td></td>\n",
              "      <td>-</td>\n",
              "    </tr>\n",
              "    <tr>\n",
              "      <th>'pm10'</th>\n",
              "      <td>FLOAT</td>\n",
              "      <td>required</td>\n",
              "      <td></td>\n",
              "      <td>-</td>\n",
              "    </tr>\n",
              "    <tr>\n",
              "      <th>'Date'</th>\n",
              "      <td>BYTES</td>\n",
              "      <td>required</td>\n",
              "      <td></td>\n",
              "      <td>-</td>\n",
              "    </tr>\n",
              "    <tr>\n",
              "      <th>'so2'</th>\n",
              "      <td>FLOAT</td>\n",
              "      <td>required</td>\n",
              "      <td></td>\n",
              "      <td>-</td>\n",
              "    </tr>\n",
              "  </tbody>\n",
              "</table>\n",
              "</div>"
            ]
          },
          "metadata": {
            "tags": []
          }
        }
      ]
    },
    {
      "cell_type": "code",
      "metadata": {
        "id": "1FPhqg6t8ALY",
        "colab_type": "code",
        "colab": {}
      },
      "source": [
        "test_stats = tfdv.generate_statistics_from_dataframe(dataframe = test_set)"
      ],
      "execution_count": 0,
      "outputs": []
    },
    {
      "cell_type": "code",
      "metadata": {
        "id": "vto0Xhrx9Z2X",
        "colab_type": "code",
        "colab": {}
      },
      "source": [
        "anamolies = tfdv.validate_statistics(statistics = test_stats, schema = schema)"
      ],
      "execution_count": 0,
      "outputs": []
    },
    {
      "cell_type": "code",
      "metadata": {
        "id": "PfVJUh4e-vXQ",
        "colab_type": "code",
        "outputId": "76c4fa65-8d42-4345-de4e-0c65cb4a4088",
        "colab": {
          "base_uri": "https://localhost:8080/",
          "height": 57
        }
      },
      "source": [
        "tfdv.display_anomalies(anamolies)"
      ],
      "execution_count": 0,
      "outputs": [
        {
          "output_type": "display_data",
          "data": {
            "text/plain": [
              "<IPython.core.display.HTML object>"
            ],
            "text/html": [
              "<h4 style=\"color:green;\">No anomalies found.</h4>"
            ]
          },
          "metadata": {
            "tags": []
          }
        }
      ]
    },
    {
      "cell_type": "code",
      "metadata": {
        "id": "zlJzDABJ9uCF",
        "colab_type": "code",
        "outputId": "efccccaa-24ea-4bb0-befe-5faafcace2e0",
        "colab": {
          "base_uri": "https://localhost:8080/",
          "height": 102
        }
      },
      "source": [
        "test_set.drop('soot', axis = 1, inplace = True)"
      ],
      "execution_count": 0,
      "outputs": [
        {
          "output_type": "stream",
          "text": [
            "/usr/local/lib/python2.7/dist-packages/pandas/core/frame.py:3940: SettingWithCopyWarning: \n",
            "A value is trying to be set on a copy of a slice from a DataFrame\n",
            "\n",
            "See the caveats in the documentation: http://pandas.pydata.org/pandas-docs/stable/indexing.html#indexing-view-versus-copy\n",
            "  errors=errors)\n"
          ],
          "name": "stderr"
        }
      ]
    },
    {
      "cell_type": "code",
      "metadata": {
        "id": "dexffF0M-0gp",
        "colab_type": "code",
        "colab": {}
      },
      "source": [
        "test_stats = tfdv.generate_statistics_from_dataframe(dataframe = test_set)"
      ],
      "execution_count": 0,
      "outputs": []
    },
    {
      "cell_type": "code",
      "metadata": {
        "id": "auo9FSoD9woV",
        "colab_type": "code",
        "colab": {}
      },
      "source": [
        "anamolies = tfdv.validate_statistics(statistics = test_stats, schema = schema)"
      ],
      "execution_count": 0,
      "outputs": []
    },
    {
      "cell_type": "code",
      "metadata": {
        "id": "i7mG2vHO-EyA",
        "colab_type": "code",
        "outputId": "7f83bdd8-1f47-40bb-e1a9-28b59a6004c3",
        "colab": {
          "base_uri": "https://localhost:8080/",
          "height": 111
        }
      },
      "source": [
        "tfdv.display_anomalies(anamolies)"
      ],
      "execution_count": 0,
      "outputs": [
        {
          "output_type": "display_data",
          "data": {
            "text/plain": [
              "             Anomaly short description      Anomaly long description\n",
              "Feature name                                                        \n",
              "'soot'        Column dropped            Column is completely missing"
            ],
            "text/html": [
              "<div>\n",
              "<style scoped>\n",
              "    .dataframe tbody tr th:only-of-type {\n",
              "        vertical-align: middle;\n",
              "    }\n",
              "\n",
              "    .dataframe tbody tr th {\n",
              "        vertical-align: top;\n",
              "    }\n",
              "\n",
              "    .dataframe thead th {\n",
              "        text-align: right;\n",
              "    }\n",
              "</style>\n",
              "<table border=\"1\" class=\"dataframe\">\n",
              "  <thead>\n",
              "    <tr style=\"text-align: right;\">\n",
              "      <th></th>\n",
              "      <th>Anomaly short description</th>\n",
              "      <th>Anomaly long description</th>\n",
              "    </tr>\n",
              "    <tr>\n",
              "      <th>Feature name</th>\n",
              "      <th></th>\n",
              "      <th></th>\n",
              "    </tr>\n",
              "  </thead>\n",
              "  <tbody>\n",
              "    <tr>\n",
              "      <th>'soot'</th>\n",
              "      <td>Column dropped</td>\n",
              "      <td>Column is completely missing</td>\n",
              "    </tr>\n",
              "  </tbody>\n",
              "</table>\n",
              "</div>"
            ]
          },
          "metadata": {
            "tags": []
          }
        }
      ]
    },
    {
      "cell_type": "code",
      "metadata": {
        "id": "-xI-bE8Q-RQ_",
        "colab_type": "code",
        "outputId": "67afed88-ee5c-4fe3-b94a-557153558a84",
        "colab": {
          "base_uri": "https://localhost:8080/",
          "height": 720
        }
      },
      "source": [
        "tfdv.visualize_statistics(test_stats)"
      ],
      "execution_count": 0,
      "outputs": [
        {
          "output_type": "display_data",
          "data": {
            "text/plain": [
              "<IPython.core.display.HTML object>"
            ],
            "text/html": [
              "<iframe id='facets-iframe' width=\"100%\" height=\"500px\"></iframe>\n",
              "        <script>\n",
              "        facets_iframe = document.getElementById('facets-iframe');\n",
              "        facets_html = '<link rel=\"import\" href=\"https://raw.githubusercontent.com/PAIR-code/facets/master/facets-dist/facets-jupyter.html\"><facets-overview proto-input=\"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\"></facets-overview>';\n",
              "        facets_iframe.srcdoc = facets_html;\n",
              "         facets_iframe.id = \"\";\n",
              "         setTimeout(() => {\n",
              "           facets_iframe.setAttribute('height', facets_iframe.contentWindow.document.body.offsetHeight + 'px')\n",
              "         }, 1500)\n",
              "         </script>"
            ]
          },
          "metadata": {
            "tags": []
          }
        }
      ]
    },
    {
      "cell_type": "code",
      "metadata": {
        "id": "EPjcGMqR--uS",
        "colab_type": "code",
        "colab": {}
      },
      "source": [
        "schema.default_environment.append('training')\n",
        "schema.default_environment.append('serving')"
      ],
      "execution_count": 0,
      "outputs": []
    },
    {
      "cell_type": "code",
      "metadata": {
        "id": "8G5OAhtr_YeL",
        "colab_type": "code",
        "colab": {}
      },
      "source": [
        "tfdv.get_feature(schema = schema, feature_path = 'soot').not_in_environment.append('serving')"
      ],
      "execution_count": 0,
      "outputs": []
    },
    {
      "cell_type": "code",
      "metadata": {
        "id": "hIpv98mOADT5",
        "colab_type": "code",
        "colab": {}
      },
      "source": [
        "serving_env_anamolies = tfdv.validate_statistics(statistics = test_stats, schema = schema, environment = 'serving')"
      ],
      "execution_count": 0,
      "outputs": []
    },
    {
      "cell_type": "code",
      "metadata": {
        "id": "E2gMtJ3KAWbx",
        "colab_type": "code",
        "outputId": "ada91d2a-3c93-4c11-f5bf-7555286b95ae",
        "colab": {
          "base_uri": "https://localhost:8080/",
          "height": 57
        }
      },
      "source": [
        "tfdv.display_anomalies(serving_env_anamolies)"
      ],
      "execution_count": 0,
      "outputs": [
        {
          "output_type": "display_data",
          "data": {
            "text/plain": [
              "<IPython.core.display.HTML object>"
            ],
            "text/html": [
              "<h4 style=\"color:green;\">No anomalies found.</h4>"
            ]
          },
          "metadata": {
            "tags": []
          }
        }
      ]
    },
    {
      "cell_type": "code",
      "metadata": {
        "id": "VUyrkJyXAi7-",
        "colab_type": "code",
        "colab": {}
      },
      "source": [
        "tfdv.write_schema_text(schema = schema, output_path = 'pollution_schema.pbtxt')"
      ],
      "execution_count": 0,
      "outputs": []
    },
    {
      "cell_type": "code",
      "metadata": {
        "id": "Dv0nkHCYBiiF",
        "colab_type": "code",
        "colab": {}
      },
      "source": [
        "schema = tfdv.load_schema_text(input_path = 'pollution_schema.pbtxt')"
      ],
      "execution_count": 0,
      "outputs": []
    },
    {
      "cell_type": "code",
      "metadata": {
        "id": "IhTpe-NPBtuH",
        "colab_type": "code",
        "outputId": "a2668cf9-5620-4091-e94f-beca1bea2ade",
        "colab": {
          "base_uri": "https://localhost:8080/",
          "height": 846
        }
      },
      "source": [
        "tfdv.visualize_statistics(train_stats, test_stats)"
      ],
      "execution_count": 0,
      "outputs": [
        {
          "output_type": "display_data",
          "data": {
            "text/plain": [
              "<IPython.core.display.HTML object>"
            ],
            "text/html": [
              "<iframe id='facets-iframe' width=\"100%\" height=\"500px\"></iframe>\n",
              "        <script>\n",
              "        facets_iframe = document.getElementById('facets-iframe');\n",
              "        facets_html = '<link rel=\"import\" href=\"https://raw.githubusercontent.com/PAIR-code/facets/master/facets-dist/facets-jupyter.html\"><facets-overview proto-input=\"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\"></facets-overview>';\n",
              "        facets_iframe.srcdoc = facets_html;\n",
              "         facets_iframe.id = \"\";\n",
              "         setTimeout(() => {\n",
              "           facets_iframe.setAttribute('height', facets_iframe.contentWindow.document.body.offsetHeight + 'px')\n",
              "         }, 1500)\n",
              "         </script>"
            ]
          },
          "metadata": {
            "tags": []
          }
        }
      ]
    },
    {
      "cell_type": "code",
      "metadata": {
        "id": "ktlIAt7lCZAo",
        "colab_type": "code",
        "colab": {}
      },
      "source": [
        ""
      ],
      "execution_count": 0,
      "outputs": []
    }
  ]
}