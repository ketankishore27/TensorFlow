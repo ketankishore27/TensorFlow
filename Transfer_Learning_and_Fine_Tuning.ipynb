{
  "nbformat": 4,
  "nbformat_minor": 0,
  "metadata": {
    "colab": {
      "name": "Transfer_Learning and Fine_Tuning",
      "provenance": [],
      "collapsed_sections": []
    },
    "kernelspec": {
      "name": "python3",
      "display_name": "Python 3"
    },
    "accelerator": "GPU"
  },
  "cells": [
    {
      "cell_type": "markdown",
      "metadata": {
        "id": "6CPfWDjqqf-Q",
        "colab_type": "text"
      },
      "source": [
        "**Installing Tensorflow GPU Version**"
      ]
    },
    {
      "cell_type": "code",
      "metadata": {
        "id": "rjrUbPiq4O4y",
        "colab_type": "code",
        "colab": {
          "base_uri": "https://localhost:8080/",
          "height": 547
        },
        "outputId": "d02c51da-d5e6-4d83-d2ae-98723372959d"
      },
      "source": [
        "pip install tensorflow-gpu==2.0.0.alpha0"
      ],
      "execution_count": 2,
      "outputs": [
        {
          "output_type": "stream",
          "text": [
            "Collecting tensorflow-gpu==2.0.0.alpha0\n",
            "\u001b[?25l  Downloading https://files.pythonhosted.org/packages/1a/66/32cffad095253219d53f6b6c2a436637bbe45ac4e7be0244557210dc3918/tensorflow_gpu-2.0.0a0-cp36-cp36m-manylinux1_x86_64.whl (332.1MB)\n",
            "\u001b[K     |████████████████████████████████| 332.1MB 92kB/s \n",
            "\u001b[?25hRequirement already satisfied: termcolor>=1.1.0 in /usr/local/lib/python3.6/dist-packages (from tensorflow-gpu==2.0.0.alpha0) (1.1.0)\n",
            "Requirement already satisfied: astor>=0.6.0 in /usr/local/lib/python3.6/dist-packages (from tensorflow-gpu==2.0.0.alpha0) (0.8.0)\n",
            "Requirement already satisfied: numpy<2.0,>=1.14.5 in /usr/local/lib/python3.6/dist-packages (from tensorflow-gpu==2.0.0.alpha0) (1.16.5)\n",
            "Requirement already satisfied: protobuf>=3.6.1 in /usr/local/lib/python3.6/dist-packages (from tensorflow-gpu==2.0.0.alpha0) (3.7.1)\n",
            "Requirement already satisfied: grpcio>=1.8.6 in /usr/local/lib/python3.6/dist-packages (from tensorflow-gpu==2.0.0.alpha0) (1.15.0)\n",
            "Requirement already satisfied: google-pasta>=0.1.2 in /usr/local/lib/python3.6/dist-packages (from tensorflow-gpu==2.0.0.alpha0) (0.1.7)\n",
            "Requirement already satisfied: keras-applications>=1.0.6 in /usr/local/lib/python3.6/dist-packages (from tensorflow-gpu==2.0.0.alpha0) (1.0.8)\n",
            "Collecting tb-nightly<1.14.0a20190302,>=1.14.0a20190301 (from tensorflow-gpu==2.0.0.alpha0)\n",
            "\u001b[?25l  Downloading https://files.pythonhosted.org/packages/a9/51/aa1d756644bf4624c03844115e4ac4058eff77acd786b26315f051a4b195/tb_nightly-1.14.0a20190301-py3-none-any.whl (3.0MB)\n",
            "\u001b[K     |████████████████████████████████| 3.0MB 62.0MB/s \n",
            "\u001b[?25hRequirement already satisfied: absl-py>=0.7.0 in /usr/local/lib/python3.6/dist-packages (from tensorflow-gpu==2.0.0.alpha0) (0.8.0)\n",
            "Collecting tf-estimator-nightly<1.14.0.dev2019030116,>=1.14.0.dev2019030115 (from tensorflow-gpu==2.0.0.alpha0)\n",
            "\u001b[?25l  Downloading https://files.pythonhosted.org/packages/13/82/f16063b4eed210dc2ab057930ac1da4fbe1e91b7b051a6c8370b401e6ae7/tf_estimator_nightly-1.14.0.dev2019030115-py2.py3-none-any.whl (411kB)\n",
            "\u001b[K     |████████████████████████████████| 419kB 54.0MB/s \n",
            "\u001b[?25hRequirement already satisfied: wheel>=0.26 in /usr/local/lib/python3.6/dist-packages (from tensorflow-gpu==2.0.0.alpha0) (0.33.6)\n",
            "Requirement already satisfied: six>=1.10.0 in /usr/local/lib/python3.6/dist-packages (from tensorflow-gpu==2.0.0.alpha0) (1.12.0)\n",
            "Requirement already satisfied: keras-preprocessing>=1.0.5 in /usr/local/lib/python3.6/dist-packages (from tensorflow-gpu==2.0.0.alpha0) (1.1.0)\n",
            "Requirement already satisfied: gast>=0.2.0 in /usr/local/lib/python3.6/dist-packages (from tensorflow-gpu==2.0.0.alpha0) (0.2.2)\n",
            "Requirement already satisfied: setuptools in /usr/local/lib/python3.6/dist-packages (from protobuf>=3.6.1->tensorflow-gpu==2.0.0.alpha0) (41.2.0)\n",
            "Requirement already satisfied: h5py in /usr/local/lib/python3.6/dist-packages (from keras-applications>=1.0.6->tensorflow-gpu==2.0.0.alpha0) (2.8.0)\n",
            "Requirement already satisfied: markdown>=2.6.8 in /usr/local/lib/python3.6/dist-packages (from tb-nightly<1.14.0a20190302,>=1.14.0a20190301->tensorflow-gpu==2.0.0.alpha0) (3.1.1)\n",
            "Requirement already satisfied: werkzeug>=0.11.15 in /usr/local/lib/python3.6/dist-packages (from tb-nightly<1.14.0a20190302,>=1.14.0a20190301->tensorflow-gpu==2.0.0.alpha0) (0.15.6)\n",
            "Installing collected packages: tb-nightly, tf-estimator-nightly, tensorflow-gpu\n",
            "  Found existing installation: tensorflow-gpu 1.14.0\n",
            "    Uninstalling tensorflow-gpu-1.14.0:\n",
            "      Successfully uninstalled tensorflow-gpu-1.14.0\n",
            "Successfully installed tb-nightly-1.14.0a20190301 tensorflow-gpu-2.0.0a0 tf-estimator-nightly-1.14.0.dev2019030115\n"
          ],
          "name": "stdout"
        }
      ]
    },
    {
      "cell_type": "markdown",
      "metadata": {
        "id": "EnTPdCMeqnRQ",
        "colab_type": "text"
      },
      "source": [
        "**Getting the Dataset**"
      ]
    },
    {
      "cell_type": "code",
      "metadata": {
        "id": "dUa404dn4RX3",
        "colab_type": "code",
        "colab": {
          "base_uri": "https://localhost:8080/",
          "height": 204
        },
        "outputId": "555eafc4-ae3b-45ee-f5b7-4ed4839d933f"
      },
      "source": [
        "!wget --no-check-certificate \\\n",
        "    https://storage.googleapis.com/mledu-datasets/cats_and_dogs_filtered.zip \\\n",
        "    -O ./cats_and_dogs_filtered.zip"
      ],
      "execution_count": 3,
      "outputs": [
        {
          "output_type": "stream",
          "text": [
            "--2019-09-28 06:51:34--  https://storage.googleapis.com/mledu-datasets/cats_and_dogs_filtered.zip\n",
            "Resolving storage.googleapis.com (storage.googleapis.com)... 74.125.24.128, 2404:6800:4003:c01::80\n",
            "Connecting to storage.googleapis.com (storage.googleapis.com)|74.125.24.128|:443... connected.\n",
            "HTTP request sent, awaiting response... 200 OK\n",
            "Length: 68606236 (65M) [application/zip]\n",
            "Saving to: ‘./cats_and_dogs_filtered.zip’\n",
            "\n",
            "./cats_and_dogs_fil 100%[===================>]  65.43M  37.8MB/s    in 1.7s    \n",
            "\n",
            "2019-09-28 06:51:37 (37.8 MB/s) - ‘./cats_and_dogs_filtered.zip’ saved [68606236/68606236]\n",
            "\n"
          ],
          "name": "stdout"
        }
      ]
    },
    {
      "cell_type": "markdown",
      "metadata": {
        "id": "AZ4VyJZ3qW1K",
        "colab_type": "text"
      },
      "source": [
        "**Importing the Required Files**"
      ]
    },
    {
      "cell_type": "code",
      "metadata": {
        "id": "E64mVbGTo41K",
        "colab_type": "code",
        "colab": {
          "base_uri": "https://localhost:8080/",
          "height": 34
        },
        "outputId": "fdb3502a-d0be-4e89-d7bb-ff8c58368285"
      },
      "source": [
        "import os\n",
        "import zipfile\n",
        "import tensorflow as tf\n",
        "import numpy as np\n",
        "\n",
        "from tqdm import tqdm_notebook\n",
        "from tensorflow.keras.preprocessing.image import ImageDataGenerator\n",
        "\n",
        "print(tf.__version__)"
      ],
      "execution_count": 4,
      "outputs": [
        {
          "output_type": "stream",
          "text": [
            "2.0.0-alpha0\n"
          ],
          "name": "stdout"
        }
      ]
    },
    {
      "cell_type": "markdown",
      "metadata": {
        "id": "7eZmK9MEqdD8",
        "colab_type": "text"
      },
      "source": [
        "**Unzipping the File**"
      ]
    },
    {
      "cell_type": "code",
      "metadata": {
        "id": "5mj37fh8plOx",
        "colab_type": "code",
        "colab": {}
      },
      "source": [
        "zipfile_object = zipfile.ZipFile('cats_and_dogs_filtered.zip', mode = 'r')"
      ],
      "execution_count": 0,
      "outputs": []
    },
    {
      "cell_type": "code",
      "metadata": {
        "id": "Hjw6hXoAp-jc",
        "colab_type": "code",
        "colab": {}
      },
      "source": [
        "zipfile_object.extractall()"
      ],
      "execution_count": 0,
      "outputs": []
    },
    {
      "cell_type": "markdown",
      "metadata": {
        "id": "DggTEPDvq44F",
        "colab_type": "text"
      },
      "source": [
        "**Specifying the Directories**"
      ]
    },
    {
      "cell_type": "code",
      "metadata": {
        "id": "8Fm3_2YfqO8n",
        "colab_type": "code",
        "colab": {}
      },
      "source": [
        "train_dir = './cats_and_dogs_filtered/train'\n",
        "validation_dir = './cats_and_dogs_filtered/validation'"
      ],
      "execution_count": 0,
      "outputs": []
    },
    {
      "cell_type": "markdown",
      "metadata": {
        "id": "hNJTp7SQrip_",
        "colab_type": "text"
      },
      "source": [
        "**Generating the Images**"
      ]
    },
    {
      "cell_type": "code",
      "metadata": {
        "id": "dUj0xAKlrSXa",
        "colab_type": "code",
        "colab": {}
      },
      "source": [
        "train_datagen = ImageDataGenerator(rescale = 1/255.0)\n",
        "validation_datagen = ImageDataGenerator(rescale = 1/255.0)"
      ],
      "execution_count": 0,
      "outputs": []
    },
    {
      "cell_type": "code",
      "metadata": {
        "id": "8DarZ3dhs-BD",
        "colab_type": "code",
        "colab": {
          "base_uri": "https://localhost:8080/",
          "height": 34
        },
        "outputId": "748789c5-7cbe-4327-fd2e-8501657f8afc"
      },
      "source": [
        "train_generator = train_datagen.flow_from_directory(directory = train_dir, target_size = (128, 128), class_mode = 'binary')"
      ],
      "execution_count": 31,
      "outputs": [
        {
          "output_type": "stream",
          "text": [
            "Found 2000 images belonging to 2 classes.\n"
          ],
          "name": "stdout"
        }
      ]
    },
    {
      "cell_type": "code",
      "metadata": {
        "id": "bBrZexX_tJGA",
        "colab_type": "code",
        "colab": {
          "base_uri": "https://localhost:8080/",
          "height": 34
        },
        "outputId": "d3f4f922-bc48-4f5f-bbdd-eda09d812f64"
      },
      "source": [
        "validation_generator = validation_datagen.flow_from_directory(directory = validation_dir, target_size = (128, 128), class_mode = 'binary')"
      ],
      "execution_count": 32,
      "outputs": [
        {
          "output_type": "stream",
          "text": [
            "Found 1000 images belonging to 2 classes.\n"
          ],
          "name": "stdout"
        }
      ]
    },
    {
      "cell_type": "markdown",
      "metadata": {
        "id": "6oLCCYlJtWpB",
        "colab_type": "text"
      },
      "source": [
        "**Defining the Base Model**"
      ]
    },
    {
      "cell_type": "code",
      "metadata": {
        "id": "0At7gPcFtUcP",
        "colab_type": "code",
        "colab": {}
      },
      "source": [
        "IMG_SHAPE = (128, 128, 3)\n",
        "base_model = tf.keras.applications.MobileNetV2(input_shape = IMG_SHAPE, include_top = False, weights = 'imagenet')"
      ],
      "execution_count": 0,
      "outputs": []
    },
    {
      "cell_type": "markdown",
      "metadata": {
        "id": "-kiBL-dnxlFV",
        "colab_type": "text"
      },
      "source": [
        "**Freezing the Base Model**"
      ]
    },
    {
      "cell_type": "code",
      "metadata": {
        "id": "9FHHdjrNuDZp",
        "colab_type": "code",
        "colab": {}
      },
      "source": [
        "base_model.trainable = False"
      ],
      "execution_count": 0,
      "outputs": []
    },
    {
      "cell_type": "markdown",
      "metadata": {
        "id": "cR-oDLl7zT_n",
        "colab_type": "text"
      },
      "source": [
        "**Analyzing the Base Model Output**"
      ]
    },
    {
      "cell_type": "code",
      "metadata": {
        "id": "VFbfThSwuoKd",
        "colab_type": "code",
        "colab": {}
      },
      "source": [
        "global_average_layer = tf.keras.layers.GlobalAveragePooling2D()(base_model.output)"
      ],
      "execution_count": 0,
      "outputs": []
    },
    {
      "cell_type": "markdown",
      "metadata": {
        "id": "izAMNSluzdhd",
        "colab_type": "text"
      },
      "source": [
        "**Making the Prediction Layer**"
      ]
    },
    {
      "cell_type": "code",
      "metadata": {
        "id": "ppl8ET7xx_1v",
        "colab_type": "code",
        "colab": {}
      },
      "source": [
        "prediction_layer = tf.keras.layers.Dense(units = 1, activation = 'sigmoid')(global_average_layer)"
      ],
      "execution_count": 0,
      "outputs": []
    },
    {
      "cell_type": "markdown",
      "metadata": {
        "id": "Hu6CObHa0B0C",
        "colab_type": "text"
      },
      "source": [
        "**Making the final Model**"
      ]
    },
    {
      "cell_type": "code",
      "metadata": {
        "id": "OdgTSuvwzQOO",
        "colab_type": "code",
        "colab": {}
      },
      "source": [
        "model = tf.keras.models.Model(inputs = base_model.inputs, outputs = prediction_layer)"
      ],
      "execution_count": 0,
      "outputs": []
    },
    {
      "cell_type": "code",
      "metadata": {
        "id": "ozvwB_F10VeB",
        "colab_type": "code",
        "colab": {}
      },
      "source": [
        "model.compile(optimizer = tf.keras.optimizers.RMSprop(lr = 0.0001), loss = 'binary_crossentropy', metrics = ['accuracy'])"
      ],
      "execution_count": 0,
      "outputs": []
    },
    {
      "cell_type": "markdown",
      "metadata": {
        "id": "8cN0axI-1MeN",
        "colab_type": "text"
      },
      "source": [
        "**Fitting the Image Generator**"
      ]
    },
    {
      "cell_type": "code",
      "metadata": {
        "id": "veCBiqmE0mv9",
        "colab_type": "code",
        "colab": {
          "base_uri": "https://localhost:8080/",
          "height": 204
        },
        "outputId": "6a3564bd-1bb3-46dd-dce4-2c5150f1eaaa"
      },
      "source": [
        "model.fit_generator(generator = train_generator, epochs = 5, validation_data = validation_generator)"
      ],
      "execution_count": 39,
      "outputs": [
        {
          "output_type": "stream",
          "text": [
            "Epoch 1/5\n",
            "63/63 [==============================] - 51s 814ms/step - loss: 0.1698 - accuracy: 0.9340 - val_loss: 0.1424 - val_accuracy: 0.9510\n",
            "Epoch 2/5\n",
            "63/63 [==============================] - 9s 142ms/step - loss: 0.0326 - accuracy: 0.9890 - val_loss: 0.1553 - val_accuracy: 0.9530\n",
            "Epoch 3/5\n",
            "63/63 [==============================] - 9s 144ms/step - loss: 0.0171 - accuracy: 0.9955 - val_loss: 0.1750 - val_accuracy: 0.9600\n",
            "Epoch 4/5\n",
            "63/63 [==============================] - 9s 144ms/step - loss: 0.0111 - accuracy: 0.9965 - val_loss: 0.1903 - val_accuracy: 0.9600\n",
            "Epoch 5/5\n",
            "63/63 [==============================] - 9s 143ms/step - loss: 0.0127 - accuracy: 0.9945 - val_loss: 0.4224 - val_accuracy: 0.9180\n"
          ],
          "name": "stdout"
        },
        {
          "output_type": "execute_result",
          "data": {
            "text/plain": [
              "<tensorflow.python.keras.callbacks.History at 0x7f8ff45806a0>"
            ]
          },
          "metadata": {
            "tags": []
          },
          "execution_count": 39
        }
      ]
    },
    {
      "cell_type": "code",
      "metadata": {
        "id": "OX8K0RTc1n4R",
        "colab_type": "code",
        "colab": {}
      },
      "source": [
        "valid_loss, valid_accuracy = model.evaluate_generator(generator = validation_generator)"
      ],
      "execution_count": 0,
      "outputs": []
    },
    {
      "cell_type": "code",
      "metadata": {
        "id": "jZWXtEb23Lu7",
        "colab_type": "code",
        "colab": {
          "base_uri": "https://localhost:8080/",
          "height": 34
        },
        "outputId": "d62cebaf-80b6-4712-bdf6-9237336bdf57"
      },
      "source": [
        "print('The generator accuracy is {}'.format(valid_accuracy))"
      ],
      "execution_count": 41,
      "outputs": [
        {
          "output_type": "stream",
          "text": [
            "The generator accuracy is 0.9179999828338623\n"
          ],
          "name": "stdout"
        }
      ]
    },
    {
      "cell_type": "markdown",
      "metadata": {
        "id": "Q3bwg_pA4ie6",
        "colab_type": "text"
      },
      "source": [
        "**Fine tuning the model**"
      ]
    },
    {
      "cell_type": "code",
      "metadata": {
        "id": "T05jkygB3U9H",
        "colab_type": "code",
        "colab": {}
      },
      "source": [
        "base_model.trainable = True"
      ],
      "execution_count": 0,
      "outputs": []
    },
    {
      "cell_type": "code",
      "metadata": {
        "id": "rDN8-1U65JjB",
        "colab_type": "code",
        "colab": {}
      },
      "source": [
        "trainable_from = 100"
      ],
      "execution_count": 0,
      "outputs": []
    },
    {
      "cell_type": "code",
      "metadata": {
        "id": "fpkT-y8E4rkE",
        "colab_type": "code",
        "colab": {}
      },
      "source": [
        "for layer in base_model.layers[:trainable_from]:\n",
        "  layer.trainable = False"
      ],
      "execution_count": 0,
      "outputs": []
    },
    {
      "cell_type": "code",
      "metadata": {
        "id": "rFi2Rny75XLP",
        "colab_type": "code",
        "colab": {}
      },
      "source": [
        "model.compile(optimizer = tf.keras.optimizers.RMSprop(lr = 0.0001), loss = 'binary_crossentropy', metrics = ['accuracy'])"
      ],
      "execution_count": 0,
      "outputs": []
    },
    {
      "cell_type": "code",
      "metadata": {
        "id": "PQN6Gux35Xz8",
        "colab_type": "code",
        "colab": {
          "base_uri": "https://localhost:8080/",
          "height": 204
        },
        "outputId": "50bae8b8-26c8-4f47-c105-4376fc3e7411"
      },
      "source": [
        "model.fit_generator(generator = train_generator, epochs = 5, validation_data = validation_generator)"
      ],
      "execution_count": 50,
      "outputs": [
        {
          "output_type": "stream",
          "text": [
            "Epoch 1/5\n",
            "63/63 [==============================] - 28s 442ms/step - loss: 0.0141 - accuracy: 0.9970 - val_loss: 0.1355 - val_accuracy: 0.9700\n",
            "Epoch 2/5\n",
            "63/63 [==============================] - 8s 127ms/step - loss: 0.0030 - accuracy: 0.9990 - val_loss: 0.2210 - val_accuracy: 0.9600\n",
            "Epoch 3/5\n",
            "63/63 [==============================] - 8s 127ms/step - loss: 0.0032 - accuracy: 0.9990 - val_loss: 0.2585 - val_accuracy: 0.9600\n",
            "Epoch 4/5\n",
            "63/63 [==============================] - 8s 126ms/step - loss: 0.0050 - accuracy: 0.9980 - val_loss: 0.3470 - val_accuracy: 0.9440\n",
            "Epoch 5/5\n",
            "63/63 [==============================] - 8s 128ms/step - loss: 3.8944e-04 - accuracy: 1.0000 - val_loss: 0.2235 - val_accuracy: 0.9610\n"
          ],
          "name": "stdout"
        },
        {
          "output_type": "execute_result",
          "data": {
            "text/plain": [
              "<tensorflow.python.keras.callbacks.History at 0x7f8ff4409400>"
            ]
          },
          "metadata": {
            "tags": []
          },
          "execution_count": 50
        }
      ]
    },
    {
      "cell_type": "code",
      "metadata": {
        "id": "PJlN1_9r6CIz",
        "colab_type": "code",
        "colab": {}
      },
      "source": [
        "valid_loss, valid_accuracy = model.evaluate_generator(generator = validation_generator)"
      ],
      "execution_count": 0,
      "outputs": []
    },
    {
      "cell_type": "code",
      "metadata": {
        "id": "vs888aWD6MZT",
        "colab_type": "code",
        "colab": {
          "base_uri": "https://localhost:8080/",
          "height": 34
        },
        "outputId": "be937ef5-fe5f-489a-b8ae-d409028a4ea4"
      },
      "source": [
        "print('Accuracy After Fine Tuning is {}'.format(valid_accuracy))"
      ],
      "execution_count": 53,
      "outputs": [
        {
          "output_type": "stream",
          "text": [
            "Accuracy After Fine Tuning is 0.9610000252723694\n"
          ],
          "name": "stdout"
        }
      ]
    },
    {
      "cell_type": "code",
      "metadata": {
        "id": "x7hPr8q56cng",
        "colab_type": "code",
        "colab": {}
      },
      "source": [
        ""
      ],
      "execution_count": 0,
      "outputs": []
    }
  ]
}