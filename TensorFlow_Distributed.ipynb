{
  "nbformat": 4,
  "nbformat_minor": 0,
  "metadata": {
    "colab": {
      "name": "TensorFlow Distributed.ipynb",
      "provenance": [],
      "collapsed_sections": [],
      "include_colab_link": true
    },
    "kernelspec": {
      "name": "python3",
      "display_name": "Python 3"
    },
    "accelerator": "GPU"
  },
  "cells": [
    {
      "cell_type": "markdown",
      "metadata": {
        "id": "view-in-github",
        "colab_type": "text"
      },
      "source": [
        "<a href=\"https://colab.research.google.com/github/ketankishore27/TensorFlow/blob/master/TensorFlow_Distributed.ipynb\" target=\"_parent\"><img src=\"https://colab.research.google.com/assets/colab-badge.svg\" alt=\"Open In Colab\"/></a>"
      ]
    },
    {
      "cell_type": "code",
      "metadata": {
        "id": "aCxxnoI4e-hP",
        "colab_type": "code",
        "colab": {
          "base_uri": "https://localhost:8080/",
          "height": 496
        },
        "outputId": "a0765fc8-8e49-4b51-f19b-1c38e4527f7e"
      },
      "source": [
        "!pip install tensorflow-gpu==2.0.0.alpha0"
      ],
      "execution_count": 1,
      "outputs": [
        {
          "output_type": "stream",
          "text": [
            "Collecting tensorflow-gpu==2.0.0.alpha0\n",
            "\u001b[?25l  Downloading https://files.pythonhosted.org/packages/1a/66/32cffad095253219d53f6b6c2a436637bbe45ac4e7be0244557210dc3918/tensorflow_gpu-2.0.0a0-cp36-cp36m-manylinux1_x86_64.whl (332.1MB)\n",
            "\u001b[K     |████████████████████████████████| 332.1MB 87kB/s \n",
            "\u001b[?25hRequirement already satisfied: keras-applications>=1.0.6 in /usr/local/lib/python3.6/dist-packages (from tensorflow-gpu==2.0.0.alpha0) (1.0.8)\n",
            "Requirement already satisfied: absl-py>=0.7.0 in /usr/local/lib/python3.6/dist-packages (from tensorflow-gpu==2.0.0.alpha0) (0.8.0)\n",
            "Requirement already satisfied: gast>=0.2.0 in /usr/local/lib/python3.6/dist-packages (from tensorflow-gpu==2.0.0.alpha0) (0.3.2)\n",
            "Requirement already satisfied: termcolor>=1.1.0 in /usr/local/lib/python3.6/dist-packages (from tensorflow-gpu==2.0.0.alpha0) (1.1.0)\n",
            "Requirement already satisfied: protobuf>=3.6.1 in /usr/local/lib/python3.6/dist-packages (from tensorflow-gpu==2.0.0.alpha0) (3.7.1)\n",
            "Requirement already satisfied: grpcio>=1.8.6 in /usr/local/lib/python3.6/dist-packages (from tensorflow-gpu==2.0.0.alpha0) (1.15.0)\n",
            "Requirement already satisfied: google-pasta>=0.1.2 in /usr/local/lib/python3.6/dist-packages (from tensorflow-gpu==2.0.0.alpha0) (0.1.7)\n",
            "Requirement already satisfied: astor>=0.6.0 in /usr/local/lib/python3.6/dist-packages (from tensorflow-gpu==2.0.0.alpha0) (0.8.0)\n",
            "Requirement already satisfied: wheel>=0.26 in /usr/local/lib/python3.6/dist-packages (from tensorflow-gpu==2.0.0.alpha0) (0.33.6)\n",
            "Requirement already satisfied: six>=1.10.0 in /usr/local/lib/python3.6/dist-packages (from tensorflow-gpu==2.0.0.alpha0) (1.12.0)\n",
            "Collecting tb-nightly<1.14.0a20190302,>=1.14.0a20190301 (from tensorflow-gpu==2.0.0.alpha0)\n",
            "\u001b[?25l  Downloading https://files.pythonhosted.org/packages/a9/51/aa1d756644bf4624c03844115e4ac4058eff77acd786b26315f051a4b195/tb_nightly-1.14.0a20190301-py3-none-any.whl (3.0MB)\n",
            "\u001b[K     |████████████████████████████████| 3.0MB 25.7MB/s \n",
            "\u001b[?25hCollecting tf-estimator-nightly<1.14.0.dev2019030116,>=1.14.0.dev2019030115 (from tensorflow-gpu==2.0.0.alpha0)\n",
            "\u001b[?25l  Downloading https://files.pythonhosted.org/packages/13/82/f16063b4eed210dc2ab057930ac1da4fbe1e91b7b051a6c8370b401e6ae7/tf_estimator_nightly-1.14.0.dev2019030115-py2.py3-none-any.whl (411kB)\n",
            "\u001b[K     |████████████████████████████████| 419kB 38.3MB/s \n",
            "\u001b[?25hRequirement already satisfied: numpy<2.0,>=1.14.5 in /usr/local/lib/python3.6/dist-packages (from tensorflow-gpu==2.0.0.alpha0) (1.16.5)\n",
            "Requirement already satisfied: keras-preprocessing>=1.0.5 in /usr/local/lib/python3.6/dist-packages (from tensorflow-gpu==2.0.0.alpha0) (1.1.0)\n",
            "Requirement already satisfied: h5py in /usr/local/lib/python3.6/dist-packages (from keras-applications>=1.0.6->tensorflow-gpu==2.0.0.alpha0) (2.8.0)\n",
            "Requirement already satisfied: setuptools in /usr/local/lib/python3.6/dist-packages (from protobuf>=3.6.1->tensorflow-gpu==2.0.0.alpha0) (41.2.0)\n",
            "Requirement already satisfied: markdown>=2.6.8 in /usr/local/lib/python3.6/dist-packages (from tb-nightly<1.14.0a20190302,>=1.14.0a20190301->tensorflow-gpu==2.0.0.alpha0) (3.1.1)\n",
            "Requirement already satisfied: werkzeug>=0.11.15 in /usr/local/lib/python3.6/dist-packages (from tb-nightly<1.14.0a20190302,>=1.14.0a20190301->tensorflow-gpu==2.0.0.alpha0) (0.16.0)\n",
            "Installing collected packages: tb-nightly, tf-estimator-nightly, tensorflow-gpu\n",
            "Successfully installed tb-nightly-1.14.0a20190301 tensorflow-gpu-2.0.0a0 tf-estimator-nightly-1.14.0.dev2019030115\n"
          ],
          "name": "stdout"
        }
      ]
    },
    {
      "cell_type": "code",
      "metadata": {
        "id": "Jr1jlrJahvDq",
        "colab_type": "code",
        "colab": {}
      },
      "source": [
        "import numpy as np\n",
        "import tensorflow as tf\n",
        "import time\n",
        "from tensorflow.keras.datasets import mnist"
      ],
      "execution_count": 0,
      "outputs": []
    },
    {
      "cell_type": "code",
      "metadata": {
        "id": "awItCJeTh9wI",
        "colab_type": "code",
        "colab": {
          "base_uri": "https://localhost:8080/",
          "height": 51
        },
        "outputId": "e17b009d-c5b4-49ed-b998-49155dc53d07"
      },
      "source": [
        "(X_train, y_train), (X_test, y_test) = mnist.load_data()"
      ],
      "execution_count": 3,
      "outputs": [
        {
          "output_type": "stream",
          "text": [
            "Downloading data from https://storage.googleapis.com/tensorflow/tf-keras-datasets/mnist.npz\n",
            "11493376/11490434 [==============================] - 0s 0us/step\n"
          ],
          "name": "stdout"
        }
      ]
    },
    {
      "cell_type": "code",
      "metadata": {
        "id": "qZYVTOq1iL29",
        "colab_type": "code",
        "colab": {}
      },
      "source": [
        "X_train, X_test = X_train/255., X_test/255."
      ],
      "execution_count": 0,
      "outputs": []
    },
    {
      "cell_type": "code",
      "metadata": {
        "id": "vFQIWxfRiYfz",
        "colab_type": "code",
        "colab": {}
      },
      "source": [
        "X_train = X_train.reshape(-1, 28*28)\n",
        "X_test = X_test.reshape(-1, 28*28)"
      ],
      "execution_count": 0,
      "outputs": []
    },
    {
      "cell_type": "code",
      "metadata": {
        "id": "cVgbQl-XiomJ",
        "colab_type": "code",
        "colab": {
          "base_uri": "https://localhost:8080/",
          "height": 34
        },
        "outputId": "a0671d29-a6e6-477d-f274-783e6db5a5b7"
      },
      "source": [
        "X_train.shape"
      ],
      "execution_count": 6,
      "outputs": [
        {
          "output_type": "execute_result",
          "data": {
            "text/plain": [
              "(60000, 784)"
            ]
          },
          "metadata": {
            "tags": []
          },
          "execution_count": 6
        }
      ]
    },
    {
      "cell_type": "code",
      "metadata": {
        "id": "m-xJ0YUHitVa",
        "colab_type": "code",
        "colab": {}
      },
      "source": [
        "model_normal = tf.keras.models.Sequential()\n",
        "model_normal.add(tf.keras.layers.Dense(units = 128, activation = 'relu', input_shape = (784,)))\n",
        "model_normal.add(tf.keras.layers.Dropout(0.2))\n",
        "model_normal.add(tf.keras.layers.Dense(units = 128, activation = 'softmax'))\n",
        "model_normal.compile(optimizer='adam', loss = 'sparse_categorical_crossentropy', metrics = ['sparse_categorical_accuracy'])"
      ],
      "execution_count": 0,
      "outputs": []
    },
    {
      "cell_type": "code",
      "metadata": {
        "id": "mh2cJ8ekloVz",
        "colab_type": "code",
        "colab": {
          "base_uri": "https://localhost:8080/",
          "height": 255
        },
        "outputId": "8ebf6a62-a010-427f-c765-5213af3380d9"
      },
      "source": [
        "model_normal.summary()"
      ],
      "execution_count": 8,
      "outputs": [
        {
          "output_type": "stream",
          "text": [
            "Model: \"sequential\"\n",
            "_________________________________________________________________\n",
            "Layer (type)                 Output Shape              Param #   \n",
            "=================================================================\n",
            "dense (Dense)                (None, 128)               100480    \n",
            "_________________________________________________________________\n",
            "dropout (Dropout)            (None, 128)               0         \n",
            "_________________________________________________________________\n",
            "dense_1 (Dense)              (None, 128)               16512     \n",
            "=================================================================\n",
            "Total params: 116,992\n",
            "Trainable params: 116,992\n",
            "Non-trainable params: 0\n",
            "_________________________________________________________________\n"
          ],
          "name": "stdout"
        }
      ]
    },
    {
      "cell_type": "code",
      "metadata": {
        "id": "t1y2io-gls_j",
        "colab_type": "code",
        "colab": {
          "base_uri": "https://localhost:8080/",
          "height": 68
        },
        "outputId": "a1601147-91f9-4c5e-aa87-ca4abea82d96"
      },
      "source": [
        "distribute = tf.distribute.MirroredStrategy()"
      ],
      "execution_count": 9,
      "outputs": [
        {
          "output_type": "stream",
          "text": [
            "INFO:tensorflow:Device is available but not used by distribute strategy: /device:CPU:0\n",
            "INFO:tensorflow:Device is available but not used by distribute strategy: /device:XLA_GPU:0\n",
            "INFO:tensorflow:Device is available but not used by distribute strategy: /device:XLA_CPU:0\n"
          ],
          "name": "stdout"
        }
      ]
    },
    {
      "cell_type": "code",
      "metadata": {
        "id": "Mdab15vzm77E",
        "colab_type": "code",
        "colab": {
          "base_uri": "https://localhost:8080/",
          "height": 187
        },
        "outputId": "a57214db-31b4-4183-edff-19c176f3c8ae"
      },
      "source": [
        "with distribute.scope():\n",
        "  \n",
        "  model_distribute = tf.keras.models.Sequential()\n",
        "  model_distribute.add(tf.keras.layers.Dense(units = 128, activation = 'relu', input_shape = (784,)))\n",
        "  model_distribute.add(tf.keras.layers.Dropout(0.2))\n",
        "  model_distribute.add(tf.keras.layers.Dense(units = 128, activation = 'softmax'))\n",
        "  model_distribute.compile(optimizer='adam', loss = 'sparse_categorical_crossentropy', metrics = ['sparse_categorical_accuracy'])"
      ],
      "execution_count": 10,
      "outputs": [
        {
          "output_type": "stream",
          "text": [
            "INFO:tensorflow:Reduce to /job:localhost/replica:0/task:0/device:CPU:0 then broadcast to ('/job:localhost/replica:0/task:0/device:CPU:0',).\n",
            "INFO:tensorflow:Reduce to /job:localhost/replica:0/task:0/device:CPU:0 then broadcast to ('/job:localhost/replica:0/task:0/device:CPU:0',).\n",
            "INFO:tensorflow:Reduce to /job:localhost/replica:0/task:0/device:CPU:0 then broadcast to ('/job:localhost/replica:0/task:0/device:CPU:0',).\n",
            "INFO:tensorflow:Reduce to /job:localhost/replica:0/task:0/device:CPU:0 then broadcast to ('/job:localhost/replica:0/task:0/device:CPU:0',).\n",
            "INFO:tensorflow:Reduce to /job:localhost/replica:0/task:0/device:CPU:0 then broadcast to ('/job:localhost/replica:0/task:0/device:CPU:0',).\n",
            "INFO:tensorflow:Reduce to /job:localhost/replica:0/task:0/device:CPU:0 then broadcast to ('/job:localhost/replica:0/task:0/device:CPU:0',).\n",
            "INFO:tensorflow:Reduce to /job:localhost/replica:0/task:0/device:CPU:0 then broadcast to ('/job:localhost/replica:0/task:0/device:CPU:0',).\n",
            "INFO:tensorflow:Reduce to /job:localhost/replica:0/task:0/device:CPU:0 then broadcast to ('/job:localhost/replica:0/task:0/device:CPU:0',).\n",
            "INFO:tensorflow:Reduce to /job:localhost/replica:0/task:0/device:CPU:0 then broadcast to ('/job:localhost/replica:0/task:0/device:CPU:0',).\n",
            "INFO:tensorflow:Reduce to /job:localhost/replica:0/task:0/device:CPU:0 then broadcast to ('/job:localhost/replica:0/task:0/device:CPU:0',).\n"
          ],
          "name": "stdout"
        }
      ]
    },
    {
      "cell_type": "code",
      "metadata": {
        "id": "JcA6HNJJoB0G",
        "colab_type": "code",
        "colab": {
          "base_uri": "https://localhost:8080/",
          "height": 374
        },
        "outputId": "178dbb7b-3201-47a4-a206-5f89137a16c8"
      },
      "source": [
        "start_time = time.time()\n",
        "model_normal.fit(X_train, y_train, epochs = 10, batch_size = 10)\n",
        "print('TIme taken to complete the training is {}'.format(time.time() - start_time))"
      ],
      "execution_count": 11,
      "outputs": [
        {
          "output_type": "stream",
          "text": [
            "Epoch 1/10\n",
            "60000/60000 [==============================] - 26s 430us/sample - loss: 0.2769 - sparse_categorical_accuracy: 0.9194\n",
            "Epoch 2/10\n",
            "60000/60000 [==============================] - 25s 421us/sample - loss: 0.1313 - sparse_categorical_accuracy: 0.9600\n",
            "Epoch 3/10\n",
            "60000/60000 [==============================] - 25s 422us/sample - loss: 0.1011 - sparse_categorical_accuracy: 0.9679\n",
            "Epoch 4/10\n",
            "60000/60000 [==============================] - 25s 416us/sample - loss: 0.0856 - sparse_categorical_accuracy: 0.9725\n",
            "Epoch 5/10\n",
            "60000/60000 [==============================] - 25s 418us/sample - loss: 0.0753 - sparse_categorical_accuracy: 0.9763\n",
            "Epoch 6/10\n",
            "60000/60000 [==============================] - 25s 416us/sample - loss: 0.0682 - sparse_categorical_accuracy: 0.9781\n",
            "Epoch 7/10\n",
            "60000/60000 [==============================] - 25s 418us/sample - loss: 0.0613 - sparse_categorical_accuracy: 0.9801\n",
            "Epoch 8/10\n",
            "60000/60000 [==============================] - 25s 415us/sample - loss: 0.0565 - sparse_categorical_accuracy: 0.9815\n",
            "Epoch 9/10\n",
            "60000/60000 [==============================] - 25s 419us/sample - loss: 0.0555 - sparse_categorical_accuracy: 0.9819\n",
            "Epoch 10/10\n",
            "60000/60000 [==============================] - 25s 425us/sample - loss: 0.0481 - sparse_categorical_accuracy: 0.9841\n",
            "TIme taken to complete the training is 252.4184947013855\n"
          ],
          "name": "stdout"
        }
      ]
    },
    {
      "cell_type": "code",
      "metadata": {
        "id": "APMxSX1CobUS",
        "colab_type": "code",
        "colab": {
          "base_uri": "https://localhost:8080/",
          "height": 411
        },
        "outputId": "197a3345-3053-424c-82e9-1d395777226a"
      },
      "source": [
        "start_time = time.time()\n",
        "model_distribute.fit(X_train, y_train, epochs = 10, batch_size = 10)\n",
        "print('TIme taken to complete the training is {}'.format(time.time() - start_time))"
      ],
      "execution_count": 12,
      "outputs": [
        {
          "output_type": "stream",
          "text": [
            "INFO:tensorflow:batch_all_reduce invoked for batches size = 4 with algorithm = nccl, num_packs = 1, agg_small_grads_max_bytes = 0 and agg_small_grads_max_group = 10\n",
            "Epoch 1/10\n",
            "6000/6000 [==============================] - 31s 5ms/step - loss: 0.2742 - sparse_categorical_accuracy: 0.9197\n",
            "Epoch 2/10\n",
            "6000/6000 [==============================] - 31s 5ms/step - loss: 0.1324 - sparse_categorical_accuracy: 0.9601\n",
            "Epoch 3/10\n",
            "6000/6000 [==============================] - 31s 5ms/step - loss: 0.1033 - sparse_categorical_accuracy: 0.9678\n",
            "Epoch 4/10\n",
            "6000/6000 [==============================] - 31s 5ms/step - loss: 0.0833 - sparse_categorical_accuracy: 0.9737\n",
            "Epoch 5/10\n",
            "6000/6000 [==============================] - 31s 5ms/step - loss: 0.0738 - sparse_categorical_accuracy: 0.9766\n",
            "Epoch 6/10\n",
            "6000/6000 [==============================] - 31s 5ms/step - loss: 0.0673 - sparse_categorical_accuracy: 0.9780\n",
            "Epoch 7/10\n",
            "6000/6000 [==============================] - 31s 5ms/step - loss: 0.0601 - sparse_categorical_accuracy: 0.9805\n",
            "Epoch 8/10\n",
            "6000/6000 [==============================] - 31s 5ms/step - loss: 0.0561 - sparse_categorical_accuracy: 0.9818\n",
            "Epoch 9/10\n",
            "6000/6000 [==============================] - 31s 5ms/step - loss: 0.0513 - sparse_categorical_accuracy: 0.9831\n",
            "Epoch 10/10\n",
            "6000/6000 [==============================] - 31s 5ms/step - loss: 0.0484 - sparse_categorical_accuracy: 0.9840\n",
            "TIme taken to complete the training is 312.61862897872925\n"
          ],
          "name": "stdout"
        }
      ]
    },
    {
      "cell_type": "code",
      "metadata": {
        "id": "EOKFVeyAor8C",
        "colab_type": "code",
        "colab": {}
      },
      "source": [
        ""
      ],
      "execution_count": 0,
      "outputs": []
    }
  ]
}